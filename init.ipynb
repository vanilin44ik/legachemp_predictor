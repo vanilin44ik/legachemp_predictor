{
 "cells": [
  {
   "cell_type": "code",
   "execution_count": null,
   "metadata": {},
   "outputs": [],
   "source": [
    "# Обязательно выполнять на ubuntu"
   ]
  },
  {
   "cell_type": "markdown",
   "metadata": {},
   "source": [
    "### Utils"
   ]
  },
  {
   "cell_type": "code",
   "execution_count": 1,
   "metadata": {},
   "outputs": [
    {
     "name": "stderr",
     "output_type": "stream",
     "text": [
      "WARNING: Ignoring invalid distribution ~uto-py-to-exe (C:\\Users\\Sefixnep\\AppData\\Local\\Programs\\Python\\Python311\\Lib\\site-packages)\n",
      "WARNING: Ignoring invalid distribution ~uto-py-to-exe (C:\\Users\\Sefixnep\\AppData\\Local\\Programs\\Python\\Python311\\Lib\\site-packages)\n",
      "WARNING: Ignoring invalid distribution ~uto-py-to-exe (C:\\Users\\Sefixnep\\AppData\\Local\\Programs\\Python\\Python311\\Lib\\site-packages)\n"
     ]
    }
   ],
   "source": [
    "!pip install tqdm -q"
   ]
  },
  {
   "cell_type": "code",
   "execution_count": 1,
   "metadata": {},
   "outputs": [],
   "source": [
    "import os\n",
    "import requests\n",
    "from tqdm import tqdm\n",
    "\n",
    "def yandex2direct(public_url):\n",
    "    # URL API\n",
    "    api_url = f\"https://cloud-api.yandex.net/v1/disk/public/resources/download?public_key={public_url}\"\n",
    "\n",
    "    # Получение прямой ссылки\n",
    "    response = requests.get(api_url)\n",
    "    direct_link = response.json().get(\"href\")\n",
    "\n",
    "    return direct_link\n",
    "\n",
    "def download(filename, direct_link):\n",
    "    if direct_link.startswith(\"https://disk.yandex.ru\"):\n",
    "        direct_link = yandex2direct(direct_link)\n",
    "\n",
    "    # Создание директории, если она не существует\n",
    "    dir = os.path.dirname(filename)\n",
    "    if dir:\n",
    "        os.makedirs(dir, exist_ok=True)\n",
    "\n",
    "    # Стриминг данных для поэтапного сохранения\n",
    "    with requests.get(direct_link, stream=True) as response:\n",
    "        # Проверка успешного запроса\n",
    "        response.raise_for_status()\n",
    "        \n",
    "        # Получаем общий размер файла\n",
    "        total_size = int(response.headers.get('content-length', 0))\n",
    "        \n",
    "        # Запись данных в файл по частям с отображением прогресса через tqdm\n",
    "        print(f'Загрузка {filename}:')\n",
    "        with open(filename, \"wb\") as f:\n",
    "            with tqdm(total=total_size, unit='B', unit_scale=True, unit_divisor=1024) as pbar:\n",
    "                for chunk in response.iter_content(chunk_size=8192):  # Скачивание по 8 KB\n",
    "                    f.write(chunk)\n",
    "                    pbar.update(len(chunk))\n",
    "        print('Загрузка завершена', end=\"\\n\\n\")"
   ]
  },
  {
   "cell_type": "code",
   "execution_count": 2,
   "metadata": {},
   "outputs": [],
   "source": [
    "import gzip\n",
    "import shutil\n",
    "import zipfile\n",
    "\n",
    "def unzip(zip_path, extract_path):\n",
    "    # Создание директории, если она не существует\n",
    "    if not os.path.exists(extract_path):\n",
    "        os.makedirs(extract_path, exist_ok=True)\n",
    "    \n",
    "    with zipfile.ZipFile(zip_path, 'r') as zip_ref:\n",
    "        zip_ref.extractall(extract_path)\n",
    "\n",
    "def gunzip(gz_path, out_path=None):\n",
    "    if out_path is None:\n",
    "        if not gz_path.endswith('.gz'):\n",
    "            raise ValueError(\"Файл не заканчивается на .gz, и out_path не указан.\")\n",
    "        out_path = gz_path[:-3]\n",
    "\n",
    "    with gzip.open(gz_path, 'rb') as f_in:\n",
    "        with open(out_path, 'wb') as f_out:\n",
    "            shutil.copyfileobj(f_in, f_out)\n",
    "\n",
    "    return out_path"
   ]
  },
  {
   "cell_type": "markdown",
   "metadata": {},
   "source": [
    "### Install **requirements**"
   ]
  },
  {
   "cell_type": "code",
   "execution_count": 5,
   "metadata": {},
   "outputs": [],
   "source": [
    "import platform\n",
    "\n",
    "if platform.system() == 'Linux':\n",
    "    download(\"init.sh\", \"https://disk.yandex.ru/d/D3HCDHZGn440Rg\")\n",
    "    download(\"requirements.txt\", \"https://disk.yandex.ru/d/uEMlCEJvkinxig\")\n",
    "\n",
    "    !chmod +x init.sh\n",
    "    !./init.sh\n",
    "else:\n",
    "    print(\"Этот скрипт предназначен только для Linux\")"
   ]
  },
  {
   "cell_type": "markdown",
   "metadata": {},
   "source": [
    "### Download files"
   ]
  }
 ],
 "metadata": {
  "kernelspec": {
   "display_name": "Python 3",
   "language": "python",
   "name": "python3"
  },
  "language_info": {
   "codemirror_mode": {
    "name": "ipython",
    "version": 3
   },
   "file_extension": ".py",
   "mimetype": "text/x-python",
   "name": "python",
   "nbconvert_exporter": "python",
   "pygments_lexer": "ipython3",
   "version": "3.11.9"
  }
 },
 "nbformat": 4,
 "nbformat_minor": 2
}
